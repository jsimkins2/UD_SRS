{
 "cells": [
  {
   "cell_type": "code",
   "execution_count": 23,
   "metadata": {},
   "outputs": [],
   "source": [
    "import panel as pn\n",
    "import pandas as pd\n",
    "import datetime as dt\n",
    "from datetime import datetime\n",
    "import xarray as xr\n",
    "import hvplot.xarray\n",
    "import hvplot.pandas\n",
    "from cartopy import crs as ccrs\n",
    "import geoviews as gv\n",
    "import geopandas as gpd\n",
    "import matplotlib as mpl\n",
    "from pyproj import Proj\n",
    "import pyproj"
   ]
  },
  {
   "cell_type": "code",
   "execution_count": null,
   "metadata": {},
   "outputs": [],
   "source": [
    "type(oldproj)"
   ]
  },
  {
   "cell_type": "code",
   "execution_count": 18,
   "metadata": {},
   "outputs": [],
   "source": [
    "ds = xr.open_dataset(\"http://basin.ceoe.udel.edu/thredds/dodsC/DEOSRefET.nc\")"
   ]
  },
  {
   "cell_type": "code",
   "execution_count": 57,
   "metadata": {},
   "outputs": [],
   "source": [
    "# create list of company names (tickers) to use as options\n",
    "tickers = ['RefET']\n",
    "# this creates the dropdown widget\n",
    "ticker = pn.widgets.Select(name='Dataset', options=tickers)\n",
    "title='test'\n",
    "subtitle='test'\n",
    "# this creates the dropdown widget\n",
    "vmin_vmax_slider= pn.widgets.IntRangeSlider(\n",
    "    name='Plotting Colorbar Range',\n",
    "    start=0,\n",
    "    end=6000,\n",
    "    value=(0,6000), step=10)\n",
    "# this creates the date range slider\n",
    "date_range_slider = pn.widgets.DateRangeSlider(\n",
    "    name='Date Range Slider',\n",
    "    start=pd.to_datetime(ds.time.values[0]), end=pd.to_datetime(ds.time.values[-1]),\n",
    "    value=(pd.to_datetime(ds.time.values[0]), pd.to_datetime(ds.time.values[-1])))"
   ]
  },
  {
   "cell_type": "code",
   "execution_count": 58,
   "metadata": {},
   "outputs": [
    {
     "data": {
      "text/plain": [
       "Timestamp('2014-01-01 23:59:00')"
      ]
     },
     "execution_count": 58,
     "metadata": {},
     "output_type": "execute_result"
    }
   ],
   "source": [
    "\n",
    "startcolor = '#8B4513'\n",
    "midcolor = '#FFFFFF'\n",
    "endcolor = '#008000'\n",
    "own_cmap1 = mpl.colors.LinearSegmentedColormap.from_list( 'own2', [startcolor, midcolor, endcolor] )\n",
    "pd.to_datetime(ds.time.values[0])\n"
   ]
  },
  {
   "cell_type": "code",
   "execution_count": 96,
   "metadata": {},
   "outputs": [],
   "source": [
    "@pn.depends(ticker.param.value, date_range_slider.param.value, vmin_vmax_slider.param.value)\n",
    "def get_plot(ticker,date_range,vmin_vmax):\n",
    "     # Load and format the data\n",
    "     df = ds\n",
    "     # create date filter using values from the range slider\n",
    "     # store the first and last date range slider value in a var\n",
    "     start_date = date_range_slider.value[0] \n",
    "     end_date = date_range_slider.value[1] \n",
    "     vmin=vmin_vmax_slider.value[0]\n",
    "     vmax=vmin_vmax_slider.value[1]\n",
    "     # create filter mask for the dataframe\n",
    "     df = df.sel(time=slice(start_date,end_date))\n",
    "     df = df.sum('time')\n",
    "     # create the Altair chart object\n",
    "     chart = df.hvplot.quadmesh(width=700, height=1000, \n",
    "          x='longitude', y='latitude',cmap=own_cmap1,clim=(vmin,vmax),\n",
    "          crs=ccrs.PlateCarree(), alpha=0.75,tiles='CartoLight')\n",
    "     return chart"
   ]
  },
  {
   "cell_type": "code",
   "execution_count": 97,
   "metadata": {},
   "outputs": [],
   "source": [
    "dashboard = pn.Row(pn.Column(title, subtitle, ticker,date_range_slider,vmin_vmax_slider),\n",
    "get_plot # our draw chart function!\n",
    ")"
   ]
  },
  {
   "cell_type": "code",
   "execution_count": 98,
   "metadata": {},
   "outputs": [
    {
     "name": "stdout",
     "output_type": "stream",
     "text": [
      "Launching server at http://localhost:51894\n"
     ]
    },
    {
     "data": {
      "text/plain": [
       "<bokeh.server.server.Server at 0x1a2eca5210>"
      ]
     },
     "execution_count": 98,
     "metadata": {},
     "output_type": "execute_result"
    }
   ],
   "source": [
    "dashboard.show()"
   ]
  },
  {
   "cell_type": "code",
   "execution_count": null,
   "metadata": {},
   "outputs": [],
   "source": [
    "# convert to mercator\n",
    "@pn.depends(ticker.param.value, date_range_slider.param.value, vmin_vmax_slider.param.value)\n",
    "def get_plot(ticker,date_range,vmin_vmax):\n",
    "     # Load and format the data\n",
    "     df = ds\n",
    "     # create date filter using values from the range slider\n",
    "     # store the first and last date range slider value in a var\n",
    "     start_date = date_range_slider.value[0] \n",
    "     end_date = date_range_slider.value[1] \n",
    "     vmin=vmin_vmax_slider.value[0]\n",
    "     vmax=vmin_vmax_slider.value[1]\n",
    "     # create filter mask for the dataframe\n",
    "     df = df.sel(time=slice(start_date,end_date))\n",
    "     df = df.sum('time')\n",
    "     # create the Altair chart object\n",
    "     chart = df.hvplot.quadmesh(width=700, height=1000, \n",
    "          x='longitude', y='latitude',cmap=own_cmap1,clim=(vmin,vmax),\n",
    "          crs=ccrs.PlateCarree(), alpha=0.75,tiles='CartoLight',project=True).opts(projection=ccrs.Mercator())\n",
    "     return chart"
   ]
  }
 ],
 "metadata": {
  "kernelspec": {
   "display_name": "Python 3",
   "language": "python",
   "name": "python3"
  },
  "language_info": {
   "codemirror_mode": {
    "name": "ipython",
    "version": 3
   },
   "file_extension": ".py",
   "mimetype": "text/x-python",
   "name": "python",
   "nbconvert_exporter": "python",
   "pygments_lexer": "ipython3",
   "version": "3.7.7"
  }
 },
 "nbformat": 4,
 "nbformat_minor": 2
}
